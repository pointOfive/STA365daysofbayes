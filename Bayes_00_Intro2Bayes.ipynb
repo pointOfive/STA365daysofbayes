{
 "cells": [
  {
   "cell_type": "markdown",
   "id": "ffe0265f",
   "metadata": {
    "slideshow": {
     "slide_type": "slide"
    }
   },
   "source": [
    "# Most Basic Bayesian Interview Question\n",
    "\n",
    "---\n",
    "\n",
    "Are you familiar with Bayesian inference?\n",
    "\n",
    "> Yes!\n",
    "\n",
    "Well then you must know **the law of total probability**! What's that?\n",
    "\n",
    "> What proportion of students will pass this class $\\Pr(pass)$ if you know $\\Pr(pass|GPA)$ as well as the distribution of $GPA$?\n",
    "\n",
    "Now what's the probability you'll pass this class given that you know the answer to this question?\n",
    "\n",
    "> The structure of this question is **_the most basic Bayesian interview question_**, but it requires some assumptions..."
   ]
  },
  {
   "cell_type": "markdown",
   "id": "782854f8",
   "metadata": {
    "slideshow": {
     "slide_type": "slide"
    }
   },
   "source": [
    "# Bayesian Terminology \n",
    "---\n",
    "\n",
    "## Bayes Theorem\n",
    "\n",
    "\\begin{align*}\n",
    "\\overset{posterior}{p(\\theta|x)} &={} \\frac{\\overset{likelihood}{p(x|\\theta)}\\times \\overset{prior}{p(\\theta)}}{\\overset{\\text{evidence}}{p(x)}}\\\\\n",
    "&={} \\frac{{p(x, \\theta)}}{\\underset{\\text{marginal likelihood}}{\\displaystyle \\int p(x|\\theta)p(\\theta) d\\theta}} \\textrm{ or }\n",
    "\\frac{{p(x, \\theta)}}{\\underset{\\text{law of total probability}}{\\displaystyle \\sum_{k} p(x|\\theta_k)p(\\theta_k)}} =\n",
    "\\frac{\\overset{joint}{p(x, \\theta)}}{\\underset{\\text{normalizing constant}}{c}}\n",
    "\\end{align*}\n",
    "\n",
    "### _The posterial is always proportional to the joint_\n",
    "\n",
    "$$\\Large p(\\theta|x) = (1/c)\\times p(\\theta,x) \\propto{} p(\\theta,x)$$\n"
   ]
  },
  {
   "cell_type": "markdown",
   "id": "ce983413",
   "metadata": {
    "slideshow": {
     "slide_type": "slide"
    }
   },
   "source": [
    "# Bayesian Terminology \n",
    "---\n",
    "\n",
    "## Bayes Theorem\n",
    "\n",
    "\\begin{align*}\n",
    "\\overset{posterior}{p(\\theta|x)} &={} \\frac{\\overset{likelihood}{p(x|\\theta)}\\times \\overset{prior}{p(\\theta)}}{\\overset{\\text{evidence}}{p(x)}}\\\\\n",
    "&={} \\frac{{p(x, \\theta)}}{\\underset{\\text{marginal likelihood}}{\\displaystyle \\int p(x|\\theta)p(\\theta) d\\theta}} \\textrm{ or }\n",
    "\\frac{{p(x, \\theta)}}{\\underset{\\text{law of total probability}}{\\displaystyle \\sum_{k} p(x|\\theta_k)p(\\theta_k)}} =\n",
    "\\frac{\\overset{joint}{p(x, \\theta)}}{\\underset{\\text{normalizing constant}}{c}}\n",
    "\\end{align*}\n",
    "\n",
    "### _The posterior is always proportional to the joint_\n",
    "\n",
    "$$\\large p(\\theta|x) = (1/c)\\times p(\\theta,x) \\propto{} p(\\theta,x)$$\n",
    "\n",
    "**_and the posterior is always a proper distribution if the prior is_**"
   ]
  },
  {
   "cell_type": "markdown",
   "id": "4d0f29e6",
   "metadata": {
    "slideshow": {
     "slide_type": "slide"
    }
   },
   "source": [
    "# Example\n",
    "---\n",
    "\\begin{align*}\n",
    "\\text{Likelihood} && p(x|\\theta,n) &={} C^n_k\\theta^{x}(1-\\theta)^{n-x}\\\\\n",
    "&&& \\quad\\; [\\text{exponential family distribution if $n$ is known}]\\\\\n",
    "&&& \\quad\\; [\\text{What is this distribution? What is $C^n_k$?}]\\\\\\\\\n",
    "\\text{Prior} && p(\\theta|\\alpha,\\beta) &={} \\frac{\\Gamma(\\alpha+\\beta)}{\\Gamma(\\alpha)\\Gamma(\\beta)}\\theta^{\\alpha-1}(1-\\theta)^{\\beta-1} \\\\ \n",
    "&&& \\quad\\; [\\text{$\\alpha$ and $\\beta$ are called }\\textbf{hyperparameters}]\\\\\n",
    "&&& \\quad\\; [\\text{What is this distribution? What is $\\Gamma(\\cdot)$?}]\\\\\\\\\n",
    "\\text{Posterior} && p(\\theta|x,n,\\alpha,\\beta) &={} \\overset{\\text{Bayes Theorem}}{\\frac{p(x|\\theta)p(\\theta)}{p(x)}} = \\frac{C^n_k\\theta^{x}(1-\\theta)^{n-x}  \\frac{\\Gamma(\\alpha+\\beta)}{\\Gamma(\\alpha)\\Gamma(\\beta)}\\theta^{\\alpha-1}(1-\\theta)^{\\beta-1} }{p(x)} \\\\\n",
    "&&& = \\;\\texttt{What distribution parameterized how?}\n",
    "\\end{align*}\n"
   ]
  },
  {
   "cell_type": "markdown",
   "id": "265500e5",
   "metadata": {
    "slideshow": {
     "slide_type": "slide"
    }
   },
   "source": [
    "# Homework\n",
    "\n",
    "---\n",
    "\n",
    "\\begin{align*}\n",
    "\\text{Likelihood} && p(x|\\theta,n) &={} \\texttt{Multinomial}\\\\\\\\\n",
    "\\text{Prior} && p(\\theta|\\boldsymbol{\\alpha}) &={} \\texttt{Dirichlet} \\\\ \n",
    "\\text{Posterior} && p(\\theta|x,n,\\boldsymbol{\\alpha}) &={} \\overset{\\text{Bayes Theorem}}{\\frac{p(x|\\theta)p(\\theta)}{p(x)}} = \\; \\texttt{What?}\\\\\n",
    "&&& \\quad\\quad\\quad\\quad\\quad\\; = \\; \\texttt{What distribution?}\\\\\n",
    "&&& \\quad\\quad\\quad\\quad\\quad\\quad\\;\\;\\, \\texttt{With what parameterization?}\\\\\n",
    "\\end{align*}\n",
    "\n",
    "### _The posterior is always proportional to the joint_\n",
    "\n",
    "$$\\large p(\\theta|x) = (1/c)\\times p(\\theta,x) \\propto{} p(\\theta,x)$$\n",
    "\n",
    "**_and the posterior is always a proper distribution if the prior is_**"
   ]
  }
 ],
 "metadata": {
  "celltoolbar": "Slideshow",
  "kernelspec": {
   "display_name": "Python 3 (ipykernel)",
   "language": "python",
   "name": "python3"
  },
  "language_info": {
   "codemirror_mode": {
    "name": "ipython",
    "version": 3
   },
   "file_extension": ".py",
   "mimetype": "text/x-python",
   "name": "python",
   "nbconvert_exporter": "python",
   "pygments_lexer": "ipython3",
   "version": "3.11.4"
  }
 },
 "nbformat": 4,
 "nbformat_minor": 5
}
